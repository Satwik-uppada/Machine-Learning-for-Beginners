{
 "cells": [
  {
   "cell_type": "markdown",
   "metadata": {},
   "source": [
    "# <a id='toc1_'></a>[$$Day-10-Assignment$$](#toc0_)"
   ]
  },
  {
   "cell_type": "markdown",
   "metadata": {},
   "source": [
    "---"
   ]
  },
  {
   "cell_type": "markdown",
   "metadata": {},
   "source": [
    "## **Table of contents**<a id='toc0_'></a>    \n",
    "### [$$Day-10-Assignment$$](#toc1_)    \n",
    "  - [Required Libraries](#toc1_1_)    \n",
    "  - [Creating sample data](#toc1_2_)    \n",
    "  - [Task 1: Apriori Algorithm Implementation](#toc1_3_)    \n",
    "    - [Implement Apriori algorithm](#toc1_3_1_)    \n",
    "    - [Extract frequent itemsets and association rules using the Apriori algorithm.](#toc1_3_2_)    \n",
    "    - [Significance](#toc1_3_3_)    \n",
    "      - [significance of support, confidence, and lift](#toc1_3_3_1_)    \n",
    "  - [Task 2: FP Growth Implementation](#toc1_4_)    \n",
    "      - [Implement the FP Growth algorithm](#toc1_4_1_1_)    \n",
    "        - [Frequent Itemset](#toc1_4_1_1_1_)    \n",
    "        - [Extract association rules](#toc1_4_1_1_2_)    \n",
    "      - [Compare the performance](#toc1_4_1_2_)    \n",
    "  - [Task 3: Market Basket Analysis](#toc1_5_)    \n",
    "    - [Perform market basket analysis on the transaction dataset to identify interesting patterns](#toc1_5_1_)    \n",
    "    - [Visualize the association rules and interpret the results.](#toc1_5_2_)    \n",
    "    - [business applications and benefits](#toc1_5_3_)    \n",
    "\n",
    "<!-- vscode-jupyter-toc-config\n",
    "\tnumbering=false\n",
    "\tanchor=true\n",
    "\tflat=false\n",
    "\tminLevel=1\n",
    "\tmaxLevel=6\n",
    "\t/vscode-jupyter-toc-config -->\n",
    "<!-- THIS CELL WILL BE REPLACED ON TOC UPDATE. DO NOT WRITE YOUR TEXT IN THIS CELL -->"
   ]
  },
  {
   "cell_type": "markdown",
   "metadata": {},
   "source": [
    "---"
   ]
  },
  {
   "cell_type": "markdown",
   "metadata": {},
   "source": [
    "## <a id='toc1_1_'></a>[Required Libraries](#toc0_)"
   ]
  },
  {
   "cell_type": "code",
   "execution_count": 1,
   "metadata": {},
   "outputs": [],
   "source": [
    "# Import necessary libraries\n",
    "from mlxtend.frequent_patterns import apriori, association_rules\n",
    "import pandas as pd\n",
    "import numpy as np\n",
    "from mlxtend.frequent_patterns import fpgrowth\n",
    "import networkx as nx\n",
    "import matplotlib.pyplot as plt"
   ]
  },
  {
   "cell_type": "markdown",
   "metadata": {},
   "source": [
    "---"
   ]
  },
  {
   "cell_type": "markdown",
   "metadata": {},
   "source": [
    "## <a id='toc1_2_'></a>[Creating sample data](#toc0_)"
   ]
  },
  {
   "cell_type": "code",
   "execution_count": 2,
   "metadata": {},
   "outputs": [
    {
     "data": {
      "text/html": [
       "<div>\n",
       "<style scoped>\n",
       "    .dataframe tbody tr th:only-of-type {\n",
       "        vertical-align: middle;\n",
       "    }\n",
       "\n",
       "    .dataframe tbody tr th {\n",
       "        vertical-align: top;\n",
       "    }\n",
       "\n",
       "    .dataframe thead th {\n",
       "        text-align: right;\n",
       "    }\n",
       "</style>\n",
       "<table border=\"1\" class=\"dataframe\">\n",
       "  <thead>\n",
       "    <tr style=\"text-align: right;\">\n",
       "      <th></th>\n",
       "      <th>milk</th>\n",
       "      <th>butter</th>\n",
       "      <th>bread</th>\n",
       "      <th>diapers</th>\n",
       "    </tr>\n",
       "  </thead>\n",
       "  <tbody>\n",
       "    <tr>\n",
       "      <th>0</th>\n",
       "      <td>True</td>\n",
       "      <td>True</td>\n",
       "      <td>True</td>\n",
       "      <td>False</td>\n",
       "    </tr>\n",
       "    <tr>\n",
       "      <th>1</th>\n",
       "      <td>True</td>\n",
       "      <td>False</td>\n",
       "      <td>True</td>\n",
       "      <td>False</td>\n",
       "    </tr>\n",
       "    <tr>\n",
       "      <th>2</th>\n",
       "      <td>True</td>\n",
       "      <td>False</td>\n",
       "      <td>False</td>\n",
       "      <td>True</td>\n",
       "    </tr>\n",
       "    <tr>\n",
       "      <th>3</th>\n",
       "      <td>False</td>\n",
       "      <td>True</td>\n",
       "      <td>True</td>\n",
       "      <td>False</td>\n",
       "    </tr>\n",
       "    <tr>\n",
       "      <th>4</th>\n",
       "      <td>False</td>\n",
       "      <td>False</td>\n",
       "      <td>True</td>\n",
       "      <td>True</td>\n",
       "    </tr>\n",
       "  </tbody>\n",
       "</table>\n",
       "</div>"
      ],
      "text/plain": [
       "    milk  butter  bread  diapers\n",
       "0   True    True   True    False\n",
       "1   True   False   True    False\n",
       "2   True   False  False     True\n",
       "3  False    True   True    False\n",
       "4  False   False   True     True"
      ]
     },
     "execution_count": 2,
     "metadata": {},
     "output_type": "execute_result"
    }
   ],
   "source": [
    "# Create the transaction dataset\n",
    "transactions = [\n",
    "    ['milk', 'bread', 'butter'],\n",
    "    ['milk', 'bread'],\n",
    "    ['milk', 'diapers'],\n",
    "    ['bread', 'butter'],\n",
    "    ['bread', 'diapers']\n",
    "]\n",
    "\n",
    "# Convert the transaction data into a DataFrame suitable for Apriori\n",
    "def create_transaction_dataframe(transactions):\n",
    "    # Create a set of unique items\n",
    "    items = set(item for transaction in transactions for item in transaction)\n",
    "    # Create a DataFrame with columns for each item\n",
    "    transaction_data = []\n",
    "    for transaction in transactions:\n",
    "        transaction_data.append({item: (item in transaction) for item in items})\n",
    "    return pd.DataFrame(transaction_data)\n",
    "\n",
    "transaction_df = create_transaction_dataframe(transactions)\n",
    "\n",
    "transaction_df"
   ]
  },
  {
   "cell_type": "markdown",
   "metadata": {},
   "source": [
    "---"
   ]
  },
  {
   "cell_type": "markdown",
   "metadata": {},
   "source": [
    "## <a id='toc1_3_'></a>[Task 1: Apriori Algorithm Implementation](#toc0_)"
   ]
  },
  {
   "cell_type": "markdown",
   "metadata": {},
   "source": [
    "..........................................................................................................................................................................................................................................................................................................................................................................................."
   ]
  },
  {
   "cell_type": "markdown",
   "metadata": {},
   "source": [
    "### <a id='toc1_3_1_'></a>[Implement Apriori algorithm](#toc0_)"
   ]
  },
  {
   "cell_type": "code",
   "execution_count": 3,
   "metadata": {},
   "outputs": [],
   "source": [
    "# Implement Apriori algorithm to find frequent itemsets\n",
    "frequent_itemsets = apriori(transaction_df, min_support=0.2, use_colnames=True)"
   ]
  },
  {
   "cell_type": "markdown",
   "metadata": {},
   "source": [
    "..........................................................................................................................................................................................................................................................................................................................................................................................."
   ]
  },
  {
   "cell_type": "markdown",
   "metadata": {},
   "source": [
    "### <a id='toc1_3_2_'></a>[Extract frequent itemsets and association rules using the Apriori algorithm.](#toc0_)"
   ]
  },
  {
   "cell_type": "code",
   "execution_count": 4,
   "metadata": {},
   "outputs": [
    {
     "name": "stdout",
     "output_type": "stream",
     "text": [
      "Frequent Itemsets:\n"
     ]
    },
    {
     "data": {
      "text/html": [
       "<div>\n",
       "<style scoped>\n",
       "    .dataframe tbody tr th:only-of-type {\n",
       "        vertical-align: middle;\n",
       "    }\n",
       "\n",
       "    .dataframe tbody tr th {\n",
       "        vertical-align: top;\n",
       "    }\n",
       "\n",
       "    .dataframe thead th {\n",
       "        text-align: right;\n",
       "    }\n",
       "</style>\n",
       "<table border=\"1\" class=\"dataframe\">\n",
       "  <thead>\n",
       "    <tr style=\"text-align: right;\">\n",
       "      <th></th>\n",
       "      <th>support</th>\n",
       "      <th>itemsets</th>\n",
       "    </tr>\n",
       "  </thead>\n",
       "  <tbody>\n",
       "    <tr>\n",
       "      <th>0</th>\n",
       "      <td>0.6</td>\n",
       "      <td>(milk)</td>\n",
       "    </tr>\n",
       "    <tr>\n",
       "      <th>1</th>\n",
       "      <td>0.4</td>\n",
       "      <td>(butter)</td>\n",
       "    </tr>\n",
       "    <tr>\n",
       "      <th>2</th>\n",
       "      <td>0.8</td>\n",
       "      <td>(bread)</td>\n",
       "    </tr>\n",
       "    <tr>\n",
       "      <th>3</th>\n",
       "      <td>0.4</td>\n",
       "      <td>(diapers)</td>\n",
       "    </tr>\n",
       "    <tr>\n",
       "      <th>4</th>\n",
       "      <td>0.2</td>\n",
       "      <td>(milk, butter)</td>\n",
       "    </tr>\n",
       "    <tr>\n",
       "      <th>5</th>\n",
       "      <td>0.4</td>\n",
       "      <td>(milk, bread)</td>\n",
       "    </tr>\n",
       "    <tr>\n",
       "      <th>6</th>\n",
       "      <td>0.2</td>\n",
       "      <td>(milk, diapers)</td>\n",
       "    </tr>\n",
       "    <tr>\n",
       "      <th>7</th>\n",
       "      <td>0.4</td>\n",
       "      <td>(butter, bread)</td>\n",
       "    </tr>\n",
       "    <tr>\n",
       "      <th>8</th>\n",
       "      <td>0.2</td>\n",
       "      <td>(bread, diapers)</td>\n",
       "    </tr>\n",
       "    <tr>\n",
       "      <th>9</th>\n",
       "      <td>0.2</td>\n",
       "      <td>(milk, butter, bread)</td>\n",
       "    </tr>\n",
       "  </tbody>\n",
       "</table>\n",
       "</div>"
      ],
      "text/plain": [
       "   support               itemsets\n",
       "0      0.6                 (milk)\n",
       "1      0.4               (butter)\n",
       "2      0.8                (bread)\n",
       "3      0.4              (diapers)\n",
       "4      0.2         (milk, butter)\n",
       "5      0.4          (milk, bread)\n",
       "6      0.2        (milk, diapers)\n",
       "7      0.4        (butter, bread)\n",
       "8      0.2       (bread, diapers)\n",
       "9      0.2  (milk, butter, bread)"
      ]
     },
     "execution_count": 4,
     "metadata": {},
     "output_type": "execute_result"
    }
   ],
   "source": [
    "# Display frequent itemsets\n",
    "print(\"Frequent Itemsets:\")\n",
    "frequent_itemsets"
   ]
  },
  {
   "cell_type": "markdown",
   "metadata": {},
   "source": [
    "..........................................................................................................................................................................................................................................................................................................................................................................................."
   ]
  },
  {
   "cell_type": "code",
   "execution_count": 5,
   "metadata": {},
   "outputs": [
    {
     "name": "stdout",
     "output_type": "stream",
     "text": [
      "\n",
      "Association Rules:\n"
     ]
    },
    {
     "data": {
      "text/html": [
       "<div>\n",
       "<style scoped>\n",
       "    .dataframe tbody tr th:only-of-type {\n",
       "        vertical-align: middle;\n",
       "    }\n",
       "\n",
       "    .dataframe tbody tr th {\n",
       "        vertical-align: top;\n",
       "    }\n",
       "\n",
       "    .dataframe thead th {\n",
       "        text-align: right;\n",
       "    }\n",
       "</style>\n",
       "<table border=\"1\" class=\"dataframe\">\n",
       "  <thead>\n",
       "    <tr style=\"text-align: right;\">\n",
       "      <th></th>\n",
       "      <th>antecedents</th>\n",
       "      <th>consequents</th>\n",
       "      <th>antecedent support</th>\n",
       "      <th>consequent support</th>\n",
       "      <th>support</th>\n",
       "      <th>confidence</th>\n",
       "      <th>lift</th>\n",
       "      <th>leverage</th>\n",
       "      <th>conviction</th>\n",
       "      <th>zhangs_metric</th>\n",
       "    </tr>\n",
       "  </thead>\n",
       "  <tbody>\n",
       "    <tr>\n",
       "      <th>0</th>\n",
       "      <td>(milk)</td>\n",
       "      <td>(bread)</td>\n",
       "      <td>0.6</td>\n",
       "      <td>0.8</td>\n",
       "      <td>0.4</td>\n",
       "      <td>0.666667</td>\n",
       "      <td>0.833333</td>\n",
       "      <td>-0.08</td>\n",
       "      <td>0.6</td>\n",
       "      <td>-0.333333</td>\n",
       "    </tr>\n",
       "    <tr>\n",
       "      <th>1</th>\n",
       "      <td>(butter)</td>\n",
       "      <td>(bread)</td>\n",
       "      <td>0.4</td>\n",
       "      <td>0.8</td>\n",
       "      <td>0.4</td>\n",
       "      <td>1.000000</td>\n",
       "      <td>1.250000</td>\n",
       "      <td>0.08</td>\n",
       "      <td>inf</td>\n",
       "      <td>0.333333</td>\n",
       "    </tr>\n",
       "    <tr>\n",
       "      <th>2</th>\n",
       "      <td>(milk, butter)</td>\n",
       "      <td>(bread)</td>\n",
       "      <td>0.2</td>\n",
       "      <td>0.8</td>\n",
       "      <td>0.2</td>\n",
       "      <td>1.000000</td>\n",
       "      <td>1.250000</td>\n",
       "      <td>0.04</td>\n",
       "      <td>inf</td>\n",
       "      <td>0.250000</td>\n",
       "    </tr>\n",
       "  </tbody>\n",
       "</table>\n",
       "</div>"
      ],
      "text/plain": [
       "      antecedents consequents  antecedent support  consequent support  \\\n",
       "0          (milk)     (bread)                 0.6                 0.8   \n",
       "1        (butter)     (bread)                 0.4                 0.8   \n",
       "2  (milk, butter)     (bread)                 0.2                 0.8   \n",
       "\n",
       "   support  confidence      lift  leverage  conviction  zhangs_metric  \n",
       "0      0.4    0.666667  0.833333     -0.08         0.6      -0.333333  \n",
       "1      0.4    1.000000  1.250000      0.08         inf       0.333333  \n",
       "2      0.2    1.000000  1.250000      0.04         inf       0.250000  "
      ]
     },
     "execution_count": 5,
     "metadata": {},
     "output_type": "execute_result"
    }
   ],
   "source": [
    "# Extract association rules\n",
    "association_rules_df = association_rules(frequent_itemsets, metric=\"confidence\", min_threshold=0.6)\n",
    "# Display association rules\n",
    "\n",
    "print(\"\\nAssociation Rules:\")\n",
    "association_rules_df"
   ]
  },
  {
   "cell_type": "markdown",
   "metadata": {},
   "source": [
    "..........................................................................................................................................................................................................................................................................................................................................................................................."
   ]
  },
  {
   "cell_type": "markdown",
   "metadata": {},
   "source": [
    "### <a id='toc1_3_3_'></a>[Significance](#toc0_)"
   ]
  },
  {
   "cell_type": "markdown",
   "metadata": {},
   "source": [
    "#### <a id='toc1_3_3_1_'></a>[significance of support, confidence, and lift](#toc0_)\n",
    "- Support is the proportion of transactions that contain the itemset.\n",
    "- Confidence is the likelihood of the consequent given the antecedent.\n",
    "- Lift indicates the strength of the rule over random chance."
   ]
  },
  {
   "cell_type": "markdown",
   "metadata": {},
   "source": [
    "----"
   ]
  },
  {
   "cell_type": "markdown",
   "metadata": {},
   "source": [
    "## <a id='toc1_4_'></a>[Task 2: FP Growth Implementation](#toc0_)"
   ]
  },
  {
   "cell_type": "markdown",
   "metadata": {},
   "source": [
    "..........................................................................................................................................................................................................................................................................................................................................................................................."
   ]
  },
  {
   "cell_type": "markdown",
   "metadata": {},
   "source": [
    "#### <a id='toc1_4_1_1_'></a>[Implement the FP Growth algorithm](#toc0_)"
   ]
  },
  {
   "cell_type": "code",
   "execution_count": 6,
   "metadata": {},
   "outputs": [],
   "source": [
    "# Implement FP Growth algorithm to find frequent itemsets\n",
    "frequent_itemsets_fp = fpgrowth(transaction_df, min_support=0.2, use_colnames=True)"
   ]
  },
  {
   "cell_type": "markdown",
   "metadata": {},
   "source": [
    "..........................................................................................................................................................................................................................................................................................................................................................................................."
   ]
  },
  {
   "cell_type": "markdown",
   "metadata": {},
   "source": [
    "##### <a id='toc1_4_1_1_1_'></a>[Frequent Itemset](#toc0_)"
   ]
  },
  {
   "cell_type": "code",
   "execution_count": 7,
   "metadata": {},
   "outputs": [
    {
     "name": "stdout",
     "output_type": "stream",
     "text": [
      "Frequent Itemsets using FP Growth:\n",
      "   support               itemsets\n",
      "0      0.8                (bread)\n",
      "1      0.6                 (milk)\n",
      "2      0.4               (butter)\n",
      "3      0.4              (diapers)\n",
      "4      0.4          (milk, bread)\n",
      "5      0.4        (butter, bread)\n",
      "6      0.2         (milk, butter)\n",
      "7      0.2  (milk, butter, bread)\n",
      "8      0.2        (milk, diapers)\n",
      "9      0.2       (bread, diapers)\n"
     ]
    }
   ],
   "source": [
    "# Display frequent itemsets from FP Growth\n",
    "print(\"Frequent Itemsets using FP Growth:\")\n",
    "print(frequent_itemsets_fp)\n"
   ]
  },
  {
   "cell_type": "markdown",
   "metadata": {},
   "source": [
    "..........................................................................................................................................................................................................................................................................................................................................................................................."
   ]
  },
  {
   "cell_type": "markdown",
   "metadata": {},
   "source": [
    "##### <a id='toc1_4_1_1_2_'></a>[Extract association rules](#toc0_)"
   ]
  },
  {
   "cell_type": "code",
   "execution_count": 8,
   "metadata": {},
   "outputs": [
    {
     "name": "stdout",
     "output_type": "stream",
     "text": [
      "\n",
      "Association Rules using FP Growth:\n",
      "      antecedents consequents  antecedent support  consequent support  \\\n",
      "0          (milk)     (bread)                 0.6                 0.8   \n",
      "1        (butter)     (bread)                 0.4                 0.8   \n",
      "2  (milk, butter)     (bread)                 0.2                 0.8   \n",
      "\n",
      "   support  confidence      lift  leverage  conviction  zhangs_metric  \n",
      "0      0.4    0.666667  0.833333     -0.08         0.6      -0.333333  \n",
      "1      0.4    1.000000  1.250000      0.08         inf       0.333333  \n",
      "2      0.2    1.000000  1.250000      0.04         inf       0.250000  \n"
     ]
    }
   ],
   "source": [
    "\n",
    "association_rules_fp = association_rules(frequent_itemsets_fp, metric=\"confidence\", min_threshold=0.6)\n",
    "\n",
    "#Display association rules\n",
    "print(\"\\nAssociation Rules using FP Growth:\")\n",
    "print(association_rules_fp)\n"
   ]
  },
  {
   "cell_type": "markdown",
   "metadata": {},
   "source": [
    "..........................................................................................................................................................................................................................................................................................................................................................................................."
   ]
  },
  {
   "cell_type": "markdown",
   "metadata": {},
   "source": [
    "#### <a id='toc1_4_1_2_'></a>[Compare the performance](#toc0_)"
   ]
  },
  {
   "cell_type": "code",
   "execution_count": 9,
   "metadata": {},
   "outputs": [
    {
     "name": "stdout",
     "output_type": "stream",
     "text": [
      "\n",
      "Apriori Execution Time: 0.004546403884887695\n",
      "FP Growth Execution Time: 0.0\n",
      "\n",
      "FP Growth is typically faster than Apriori because it uses a more compact data structure.\n",
      "However, FP Growth can be more complex to implement and understand.\n"
     ]
    }
   ],
   "source": [
    "\n",
    "\n",
    "import time\n",
    "\n",
    "start_time_apriori = time.time()\n",
    "apriori(transaction_df, min_support=0.2, use_colnames=True)\n",
    "end_time_apriori = time.time()\n",
    "\n",
    "start_time_fp = time.time()\n",
    "fpgrowth(transaction_df, min_support=0.2, use_colnames=True)\n",
    "end_time_fp = time.time()\n",
    "\n",
    "print(\"\\nApriori Execution Time:\", end_time_apriori - start_time_apriori)\n",
    "print(\"FP Growth Execution Time:\", end_time_fp - start_time_fp)\n",
    "\n",
    "# Discussing the advantages and disadvantages of FP Growth\n",
    "print(\"\\nFP Growth is typically faster than Apriori because it uses a more compact data structure.\")\n",
    "print(\"However, FP Growth can be more complex to implement and understand.\")\n"
   ]
  },
  {
   "cell_type": "markdown",
   "metadata": {},
   "source": [
    "---"
   ]
  },
  {
   "cell_type": "markdown",
   "metadata": {},
   "source": [
    "## <a id='toc1_5_'></a>[Task 3: Market Basket Analysis](#toc0_)"
   ]
  },
  {
   "cell_type": "markdown",
   "metadata": {},
   "source": [
    "..........................................................................................................................................................................................................................................................................................................................................................................................."
   ]
  },
  {
   "cell_type": "markdown",
   "metadata": {},
   "source": [
    "### <a id='toc1_5_1_'></a>[Perform market basket analysis on the transaction dataset to identify interesting patterns](#toc0_)"
   ]
  },
  {
   "cell_type": "code",
   "execution_count": 10,
   "metadata": {},
   "outputs": [],
   "source": [
    "# Perform market basket analysis using Apriori results\n",
    "market_basket_rules = association_rules(frequent_itemsets, metric=\"lift\", min_threshold=1.0)\n"
   ]
  },
  {
   "cell_type": "markdown",
   "metadata": {},
   "source": [
    "..........................................................................................................................................................................................................................................................................................................................................................................................."
   ]
  },
  {
   "cell_type": "markdown",
   "metadata": {},
   "source": [
    "### <a id='toc1_5_2_'></a>[Visualize the association rules and interpret the results.](#toc0_)"
   ]
  },
  {
   "cell_type": "code",
   "execution_count": 11,
   "metadata": {},
   "outputs": [
    {
     "data": {
      "image/png": "[encoded data removed]",
      "text/plain": [
       "<Figure size 640x480 with 1 Axes>"
      ]
     },
     "metadata": {},
     "output_type": "display_data"
    }
   ],
   "source": [
    "# Create a graph for visualization\n",
    "def draw_graph(rules, rules_to_show):\n",
    "    G = nx.DiGraph()\n",
    "    color_map = []\n",
    "    N = 50\n",
    "    colors = np.random.rand(N)\n",
    "    strs = [str(i) for i in range(50)]\n",
    "    for i in range(rules_to_show):\n",
    "        G.add_nodes_from([\"R\"+str(i)])\n",
    "        for a in rules.iloc[i]['antecedents']:\n",
    "            G.add_nodes_from([a])\n",
    "            G.add_edge(a, \"R\"+str(i), color=colors[i], weight=2)\n",
    "        for c in rules.iloc[i]['consequents']:\n",
    "            G.add_nodes_from([c])\n",
    "            G.add_edge(\"R\"+str(i), c, color=colors[i], weight=2)\n",
    "    for node in G:\n",
    "        found_a_string = False\n",
    "        for item in strs:\n",
    "            if node == item:\n",
    "                found_a_string = True\n",
    "        if found_a_string:\n",
    "            color_map.append('yellow')\n",
    "        else:\n",
    "            color_map.append('green')       \n",
    "    edges = G.edges()\n",
    "    colors = [G[u][v]['color'] for u,v in edges]\n",
    "    weights = [G[u][v]['weight'] for u,v in edges]\n",
    "    pos = nx.spring_layout(G, k=16, scale=2)\n",
    "    nx.draw(G, pos, edge_color=colors, width=weights, node_color=color_map, with_labels=False)\n",
    "    for p in pos:  # raise text positions\n",
    "        pos[p][1] += 0.07\n",
    "    nx.draw_networkx_labels(G, pos)\n",
    "    plt.show()\n",
    "\n",
    "# Visualize top 5 rules\n",
    "draw_graph(market_basket_rules, 5)\n"
   ]
  },
  {
   "cell_type": "markdown",
   "metadata": {},
   "source": [
    "..........................................................................................................................................................................................................................................................................................................................................................................................."
   ]
  },
  {
   "cell_type": "markdown",
   "metadata": {},
   "source": [
    "### <a id='toc1_5_3_'></a>[business applications and benefits](#toc0_)\n",
    "Market basket analysis helps retailers understand product associations.\n",
    "It can be used for cross-selling, upselling, inventory management, and personalized marketing."
   ]
  },
  {
   "cell_type": "markdown",
   "metadata": {},
   "source": [
    "---"
   ]
  }
 ],
 "metadata": {
  "kernelspec": {
   "display_name": "Python 3",
   "language": "python",
   "name": "python3"
  },
  "language_info": {
   "codemirror_mode": {
    "name": "ipython",
    "version": 3
   },
   "file_extension": ".py",
   "mimetype": "text/x-python",
   "name": "python",
   "nbconvert_exporter": "python",
   "pygments_lexer": "ipython3",
   "version": "3.12.0"
  }
 },
 "nbformat": 4,
 "nbformat_minor": 2
}
